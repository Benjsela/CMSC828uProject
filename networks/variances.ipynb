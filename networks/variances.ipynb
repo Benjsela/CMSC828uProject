{
 "cells": [
  {
   "cell_type": "code",
   "execution_count": 26,
   "metadata": {},
   "outputs": [],
   "source": [
    "from __future__ import print_function\n",
    "import torch\n",
    "import torch.nn as nn\n",
    "import torch.nn.functional as F\n",
    "import torch.optim as optim\n",
    "from torchvision import datasets, transforms\n",
    "\n",
    "import numpy as np\n",
    "\n",
    "from starter import CNN\n",
    "\n",
    "import sys\n",
    "sys.path.insert(1, '../saliency')\n",
    "from network_saliency import visualize_helper_selftrained "
   ]
  },
  {
   "cell_type": "code",
   "execution_count": 62,
   "metadata": {},
   "outputs": [],
   "source": [
    "class VarianceCNN(nn.Module):\n",
    "    def __init__(self):\n",
    "        super(VarianceCNN, self).__init__()\n",
    "        self.conv1 = nn.Conv2d(1, 10, kernel_size=5)\n",
    "        self.conv2 = nn.Conv2d(10, 20, kernel_size=5)\n",
    "        self.conv2_drop = nn.Dropout2d()\n",
    "        self.fc1 = nn.Linear(8000, 4000)\n",
    "        self.fc2 = nn.Linear(4000, 2000)\n",
    "        self.fc3 = nn.Linear(2000, 784)\n",
    "\n",
    "    def forward(self, x):\n",
    "        x = F.relu(self.conv1(x))\n",
    "        x = F.relu(self.conv2_drop(self.conv2(x)))\n",
    "        x = x.view(-1, 8000)\n",
    "        x = F.relu(self.fc1(x))\n",
    "        x = F.relu(self.fc2(x))\n",
    "        x = F.dropout(x, training=self.training)\n",
    "        x = self.fc3(x)\n",
    "        return F.log_softmax(x, dim=1)"
   ]
  },
  {
   "cell_type": "code",
   "execution_count": 63,
   "metadata": {},
   "outputs": [
    {
     "data": {
      "text/plain": [
       "CNN(\n",
       "  (conv1): Conv2d(1, 10, kernel_size=(5, 5), stride=(2, 2))\n",
       "  (conv2): Conv2d(10, 20, kernel_size=(5, 5), stride=(2, 2))\n",
       "  (conv2_drop): Dropout2d(p=0.5, inplace=False)\n",
       "  (fc1): Linear(in_features=320, out_features=50, bias=True)\n",
       "  (fc2): Linear(in_features=50, out_features=10, bias=True)\n",
       ")"
      ]
     },
     "execution_count": 63,
     "metadata": {},
     "output_type": "execute_result"
    }
   ],
   "source": [
    "# Load Original Model\n",
    "\n",
    "device = torch.device(\"cpu\")\n",
    "model = CNN().to(device)\n",
    "lr = .01\n",
    "momentum = 0.5\n",
    "optimizer = optim.SGD(model.parameters(), lr=lr, momentum=momentum)\n",
    "checkpoint = torch.load(\"trained_networks/trained_starter\")\n",
    "model.load_state_dict(checkpoint['model_state_dict'])\n",
    "optimizer.load_state_dict(checkpoint['optimizer_state_dict'])\n",
    "epoch = checkpoint['epoch']\n",
    "model.train()"
   ]
  },
  {
   "cell_type": "code",
   "execution_count": 64,
   "metadata": {},
   "outputs": [],
   "source": [
    "# Load MNIST Test Set\n",
    "\n",
    "test_loader = torch.utils.data.DataLoader( \n",
    "    datasets.MNIST('../networks/data', train=False, download=True,\n",
    "                   transform=transforms.Compose([\n",
    "                       transforms.ToTensor(),\n",
    "                       transforms.Normalize((0.1307,), (0.3081,)),\n",
    "                   ])),\n",
    "        batch_size=1, shuffle=True)"
   ]
  },
  {
   "cell_type": "code",
   "execution_count": 65,
   "metadata": {},
   "outputs": [],
   "source": [
    "variance_model = VarianceCNN().to(device)"
   ]
  },
  {
   "cell_type": "code",
   "execution_count": 119,
   "metadata": {},
   "outputs": [],
   "source": [
    "def my_loss(input_img, output, model):\n",
    "    input_img = input_img.detach().numpy()\n",
    "    for i in range(0, 784):\n",
    "        noise = np.random.normal(0, abs(output[0][i].detach().numpy()))\n",
    "        input_img[0][0][int(i/28), i%28] = input_img[0][0][int(i/28), i%28]\n",
    "    new_output = model(torch.from_numpy(input_img).to(device)).argmax(axis=1)\n",
    "    print(new_output)\n"
   ]
  },
  {
   "cell_type": "code",
   "execution_count": 126,
   "metadata": {},
   "outputs": [
    {
     "name": "stdout",
     "output_type": "stream",
     "text": [
      "tensor([1])\n",
      "torch.Size([1, 1, 28, 28])\n",
      "torch.Size([1, 1, 28, 28])\n",
      "tensor([1])\n"
     ]
    }
   ],
   "source": [
    "for batch_idx, (data, target) in enumerate(test_loader):\n",
    "    data, target = data.to(device), target.to(device)\n",
    "    predicted_output = model(data).argmax(axis=1)\n",
    "    gradients, max_gradients = visualize_helper_selftrained(model, tensor=data, k=predicted_output)\n",
    "    \n",
    "    print(target)\n",
    "    # Have to add a dimension\n",
    "    gradients = gradients[np.newaxis, ...]\n",
    "    print(gradients.shape)\n",
    "    print(data.shape)\n",
    "    output = variance_model(gradients)\n",
    "    my_loss(data, output, model)\n",
    "    break\n"
   ]
  },
  {
   "cell_type": "code",
   "execution_count": null,
   "metadata": {},
   "outputs": [],
   "source": []
  }
 ],
 "metadata": {
  "kernelspec": {
   "display_name": "Python 3",
   "language": "python",
   "name": "python3"
  },
  "language_info": {
   "codemirror_mode": {
    "name": "ipython",
    "version": 3
   },
   "file_extension": ".py",
   "mimetype": "text/x-python",
   "name": "python",
   "nbconvert_exporter": "python",
   "pygments_lexer": "ipython3",
   "version": "3.8.3"
  }
 },
 "nbformat": 4,
 "nbformat_minor": 4
}
